{
 "cells": [
  {
   "cell_type": "code",
   "execution_count": 6,
   "metadata": {},
   "outputs": [],
   "source": [
    "#import the required libraries\n",
    "\n",
    "import pandas as pd\n",
    "import numpy as np\n",
    "from sklearn.preprocessing import LabelEncoder\n",
    "from sklearn.model_selection import train_test_split\n",
    "from sklearn.linear_model import LogisticRegression\n",
    "import matplotlib.pylab as plt\n",
    "import seaborn as sns"
   ]
  },
  {
   "cell_type": "code",
   "execution_count": 7,
   "metadata": {},
   "outputs": [],
   "source": [
    "#load the dataset\n",
    "\n",
    "train_loan = pd.read_csv(\"C:/Users/Shweta/Desktop/Data Science/Python Data Science/dataset/Loan Prediction/train.csv\")\n",
    "test_loan = pd.read_csv(\"C:/Users/Shweta/Desktop/Data Science/Python Data Science/dataset/Loan Prediction/test.csv\")"
   ]
  },
  {
   "cell_type": "markdown",
   "metadata": {},
   "source": [
    "#Data Cleaning\n",
    "1.check the data ie, features names and values\n",
    "2. check for missing values\n",
    "3. Impute the missing values\n",
    "4. Remove the unwanted characters\n",
    "5.check for outliers\n",
    "6. variable data transformation\n",
    "7. categorial variable tranformation\n"
   ]
  },
  {
   "cell_type": "code",
   "execution_count": 8,
   "metadata": {},
   "outputs": [
    {
     "name": "stdout",
     "output_type": "stream",
     "text": [
      "(614, 13)\n",
      "(367, 12)\n"
     ]
    }
   ],
   "source": [
    "#the dimension of the train and test set\n",
    "\n",
    "print(train_loan.shape)\n",
    "print(test_loan.shape)"
   ]
  },
  {
   "cell_type": "code",
   "execution_count": 9,
   "metadata": {},
   "outputs": [
    {
     "name": "stdout",
     "output_type": "stream",
     "text": [
      "    Loan_ID Gender Married Dependents     Education Self_Employed  \\\n",
      "0  LP001002   Male      No          0      Graduate            No   \n",
      "1  LP001003   Male     Yes          1      Graduate            No   \n",
      "2  LP001005   Male     Yes          0      Graduate           Yes   \n",
      "3  LP001006   Male     Yes          0  Not Graduate            No   \n",
      "4  LP001008   Male      No          0      Graduate            No   \n",
      "\n",
      "   ApplicantIncome  CoapplicantIncome  LoanAmount  Loan_Amount_Term  \\\n",
      "0             5849                0.0         NaN             360.0   \n",
      "1             4583             1508.0       128.0             360.0   \n",
      "2             3000                0.0        66.0             360.0   \n",
      "3             2583             2358.0       120.0             360.0   \n",
      "4             6000                0.0       141.0             360.0   \n",
      "\n",
      "   Credit_History Property_Area Loan_Status  \n",
      "0             1.0         Urban           Y  \n",
      "1             1.0         Rural           N  \n",
      "2             1.0         Urban           Y  \n",
      "3             1.0         Urban           Y  \n",
      "4             1.0         Urban           Y  \n",
      "    Loan_ID Gender Married Dependents     Education Self_Employed  \\\n",
      "0  LP001015   Male     Yes          0      Graduate            No   \n",
      "1  LP001022   Male     Yes          1      Graduate            No   \n",
      "2  LP001031   Male     Yes          2      Graduate            No   \n",
      "3  LP001035   Male     Yes          2      Graduate            No   \n",
      "4  LP001051   Male      No          0  Not Graduate            No   \n",
      "\n",
      "   ApplicantIncome  CoapplicantIncome  LoanAmount  Loan_Amount_Term  \\\n",
      "0             5720                  0       110.0             360.0   \n",
      "1             3076               1500       126.0             360.0   \n",
      "2             5000               1800       208.0             360.0   \n",
      "3             2340               2546       100.0             360.0   \n",
      "4             3276                  0        78.0             360.0   \n",
      "\n",
      "   Credit_History Property_Area  \n",
      "0             1.0         Urban  \n",
      "1             1.0         Urban  \n",
      "2             1.0         Urban  \n",
      "3             NaN         Urban  \n",
      "4             1.0         Urban  \n"
     ]
    }
   ],
   "source": [
    "#explore the dataset\n",
    "\n",
    "print(train_loan.head())\n",
    "print(test_loan.head())"
   ]
  },
  {
   "cell_type": "code",
   "execution_count": 10,
   "metadata": {},
   "outputs": [
    {
     "name": "stdout",
     "output_type": "stream",
     "text": [
      "       ApplicantIncome  CoapplicantIncome  LoanAmount  Loan_Amount_Term  \\\n",
      "count       614.000000         614.000000  592.000000         600.00000   \n",
      "mean       5403.459283        1621.245798  146.412162         342.00000   \n",
      "std        6109.041673        2926.248369   85.587325          65.12041   \n",
      "min         150.000000           0.000000    9.000000          12.00000   \n",
      "25%        2877.500000           0.000000  100.000000         360.00000   \n",
      "50%        3812.500000        1188.500000  128.000000         360.00000   \n",
      "75%        5795.000000        2297.250000  168.000000         360.00000   \n",
      "max       81000.000000       41667.000000  700.000000         480.00000   \n",
      "\n",
      "       Credit_History  \n",
      "count      564.000000  \n",
      "mean         0.842199  \n",
      "std          0.364878  \n",
      "min          0.000000  \n",
      "25%          1.000000  \n",
      "50%          1.000000  \n",
      "75%          1.000000  \n",
      "max          1.000000  \n",
      "       ApplicantIncome  CoapplicantIncome  LoanAmount  Loan_Amount_Term  \\\n",
      "count       367.000000         367.000000  362.000000        361.000000   \n",
      "mean       4805.599455        1569.577657  136.132597        342.537396   \n",
      "std        4910.685399        2334.232099   61.366652         65.156643   \n",
      "min           0.000000           0.000000   28.000000          6.000000   \n",
      "25%        2864.000000           0.000000  100.250000        360.000000   \n",
      "50%        3786.000000        1025.000000  125.000000        360.000000   \n",
      "75%        5060.000000        2430.500000  158.000000        360.000000   \n",
      "max       72529.000000       24000.000000  550.000000        480.000000   \n",
      "\n",
      "       Credit_History  \n",
      "count      338.000000  \n",
      "mean         0.825444  \n",
      "std          0.380150  \n",
      "min          0.000000  \n",
      "25%          1.000000  \n",
      "50%          1.000000  \n",
      "75%          1.000000  \n",
      "max          1.000000  \n"
     ]
    }
   ],
   "source": [
    "#statistical inferences of the variable\n",
    "\n",
    "print(train_loan.describe())\n",
    "print(test_loan.describe())"
   ]
  },
  {
   "cell_type": "code",
   "execution_count": 11,
   "metadata": {},
   "outputs": [
    {
     "name": "stdout",
     "output_type": "stream",
     "text": [
      "Loan_ID              0\n",
      "Gender               0\n",
      "Married              0\n",
      "Dependents           0\n",
      "Education            0\n",
      "Self_Employed        0\n",
      "ApplicantIncome      0\n",
      "CoapplicantIncome    0\n",
      "LoanAmount           0\n",
      "Loan_Amount_Term     0\n",
      "Credit_History       0\n",
      "Property_Area        0\n",
      "Loan_Status          0\n",
      "dtype: int64\n"
     ]
    }
   ],
   "source": [
    "#for train dataset\n",
    "\n",
    "#check for missing values and impute it, in trainset\n",
    "#print(train_loan.isna().sum())\n",
    "train_loan['Gender'] = train_loan['Gender'].fillna( train_loan['Gender'].dropna().mode().values[0] )\n",
    "train_loan['Married'] = train_loan['Married'].fillna( train_loan['Married'].dropna().mode().values[0] )\n",
    "train_loan['Dependents'] = train_loan['Dependents'].fillna( train_loan['Dependents'].dropna().mode().values[0] )\n",
    "train_loan['Self_Employed'] = train_loan['Self_Employed'].fillna( train_loan['Self_Employed'].dropna().mode().values[0] )\n",
    "train_loan['LoanAmount'] = train_loan['LoanAmount'].fillna( train_loan['LoanAmount'].dropna().mode().values[0] )\n",
    "train_loan['Loan_Amount_Term'] = train_loan['Loan_Amount_Term'].fillna( train_loan['Loan_Amount_Term'].dropna().mode().values[0])\n",
    "train_loan['Credit_History'] = train_loan['Credit_History'].fillna( train_loan['Credit_History'].dropna().mode().values[0] )\n",
    "print(train_loan.isna().sum())\n"
   ]
  },
  {
   "cell_type": "code",
   "execution_count": 12,
   "metadata": {},
   "outputs": [],
   "source": [
    "#remove the unwanted characters\n",
    "train_loan['Dependents']= train_loan.Dependents.apply(lambda x: x.strip('+'))\n",
    "train_loan['Dependents'] = train_loan['Dependents'].astype(np.int)"
   ]
  },
  {
   "cell_type": "code",
   "execution_count": 13,
   "metadata": {},
   "outputs": [
    {
     "name": "stdout",
     "output_type": "stream",
     "text": [
      "Loan_ID              0\n",
      "Gender               0\n",
      "Married              0\n",
      "Dependents           0\n",
      "Education            0\n",
      "Self_Employed        0\n",
      "ApplicantIncome      0\n",
      "CoapplicantIncome    0\n",
      "LoanAmount           0\n",
      "Loan_Amount_Term     0\n",
      "Credit_History       0\n",
      "Property_Area        0\n",
      "dtype: int64\n"
     ]
    }
   ],
   "source": [
    "##check for missing values and impute it, for test dataset\n",
    "\n",
    "#print(train_loan.isna().sum())\n",
    "test_loan['Gender'] = test_loan['Gender'].fillna( test_loan['Gender'].dropna().mode().values[0] )\n",
    "test_loan['Married'] = test_loan['Married'].fillna( test_loan['Married'].dropna().mode().values[0] )\n",
    "test_loan['Dependents'] = test_loan['Dependents'].fillna( test_loan['Dependents'].dropna().mode().values[0] )\n",
    "test_loan['Self_Employed'] = test_loan['Self_Employed'].fillna( test_loan['Self_Employed'].dropna().mode().values[0] )\n",
    "test_loan['LoanAmount'] = test_loan['LoanAmount'].fillna( test_loan['LoanAmount'].dropna().mode().values[0] )\n",
    "test_loan['Loan_Amount_Term'] = test_loan['Loan_Amount_Term'].fillna( test_loan['Loan_Amount_Term'].dropna().mode().values[0])\n",
    "test_loan['Credit_History'] = test_loan['Credit_History'].fillna( test_loan['Credit_History'].dropna().mode().values[0] )\n",
    "print(test_loan.isna().sum())\n"
   ]
  },
  {
   "cell_type": "code",
   "execution_count": 14,
   "metadata": {},
   "outputs": [],
   "source": [
    "#categorical variable transformation with datatype conversion\n",
    "#for trrain dataset\n",
    "\n",
    "#df['Dependents'] = df['Dependents'].str.rstrip('+')\n",
    "train_loan['Gender'] = train_loan['Gender'].map({'Female':0,'Male':1}).astype(np.int)\n",
    "train_loan['Married'] = train_loan['Married'].map({'No':0, 'Yes':1}).astype(np.int)\n",
    "train_loan['Education'] = train_loan['Education'].map({'Not Graduate':0, 'Graduate':1}).astype(np.int)\n",
    "train_loan['Self_Employed'] = train_loan['Self_Employed'].map({'No':0, 'Yes':1}).astype(np.int)\n",
    "train_loan['Loan_Status'] = train_loan['Loan_Status'].map({'N':0, 'Y':1}).astype(np.int)\n",
    "train_loan['Property_Area'] = train_loan['Property_Area'].map({'Rural':0, 'Urban':2, 'Semiurban':1}).astype(np.int)\n",
    "#df['Dependents'] = df['Dependents'].astype(np.int)"
   ]
  },
  {
   "cell_type": "code",
   "execution_count": 15,
   "metadata": {},
   "outputs": [],
   "source": [
    "#categorical variable transformation with datatype conversion\n",
    "#for test dataset\n",
    "test_loan['Gender'] = test_loan['Gender'].map({'Female':0,'Male':1}).astype(np.int)\n",
    "test_loan['Married'] = test_loan['Married'].map({'No':0, 'Yes':1}).astype(np.int)\n",
    "test_loan['Education'] = test_loan['Education'].map({'Not Graduate':0, 'Graduate':1}).astype(np.int)\n",
    "test_loan['Self_Employed'] = test_loan['Self_Employed'].map({'No':0, 'Yes':1}).astype(np.int)\n",
    "test_loan['Property_Area'] = test_loan['Property_Area'].map({'Rural':0, 'Urban':2, 'Semiurban':1}).astype(np.int)"
   ]
  },
  {
   "cell_type": "code",
   "execution_count": 16,
   "metadata": {},
   "outputs": [],
   "source": [
    "#remove the unwanted characters\n",
    "test_loan['Dependents']= test_loan.Dependents.apply(lambda x: x.strip('+'))\n",
    "test_loan['Dependents'] = test_loan['Dependents'].astype(np.int)"
   ]
  },
  {
   "cell_type": "code",
   "execution_count": 11,
   "metadata": {},
   "outputs": [
    {
     "data": {
      "text/plain": [
       "<matplotlib.axes._subplots.AxesSubplot at 0xccb4ce7d68>"
      ]
     },
     "execution_count": 11,
     "metadata": {},
     "output_type": "execute_result"
    },
    {
     "data": {
      "image/png": "[encoded data removed]",
      "text/plain": [
       "<Figure size 432x288 with 1 Axes>"
      ]
     },
     "metadata": {
      "needs_background": "light"
     },
     "output_type": "display_data"
    }
   ],
   "source": [
    "#check for outliers\n",
    "import seaborn as sns\n",
    "sns.boxplot(y='ApplicantIncome', data=train_loan)"
   ]
  },
  {
   "cell_type": "code",
   "execution_count": 12,
   "metadata": {},
   "outputs": [
    {
     "data": {
      "text/plain": [
       "<matplotlib.axes._subplots.AxesSubplot at 0xccb50047b8>"
      ]
     },
     "execution_count": 12,
     "metadata": {},
     "output_type": "execute_result"
    },
    {
     "data": {
      "image/png": "[encoded data removed]",
      "text/plain": [
       "<Figure size 432x288 with 1 Axes>"
      ]
     },
     "metadata": {
      "needs_background": "light"
     },
     "output_type": "display_data"
    }
   ],
   "source": [
    "sns.boxplot(y='CoapplicantIncome', data=train_loan)"
   ]
  },
  {
   "cell_type": "code",
   "execution_count": 13,
   "metadata": {},
   "outputs": [
    {
     "data": {
      "text/plain": [
       "<matplotlib.axes._subplots.AxesSubplot at 0xccb5064278>"
      ]
     },
     "execution_count": 13,
     "metadata": {},
     "output_type": "execute_result"
    },
    {
     "data": {
      "image/png": "[encoded data removed]",
      "text/plain": [
       "<Figure size 432x288 with 1 Axes>"
      ]
     },
     "metadata": {
      "needs_background": "light"
     },
     "output_type": "display_data"
    }
   ],
   "source": [
    "sns.boxplot(y='LoanAmount', data=train_loan)"
   ]
  },
  {
   "cell_type": "code",
   "execution_count": null,
   "metadata": {},
   "outputs": [],
   "source": [
    "#Removing the outliers\n",
    "#beyond the range of -1.5 x IQR to 1.5 x IQR\n",
    "from scipy.stats import iqr\n",
    "IQR = iqr(train_loan['ApplicantIncome'])\n",
    "median = train_loan['ApplicantIncome'].mean()\n",
    "train_loan['ApplicantIncome'] = np.where(train_loan['ApplicantIncome'] > 1.5*IQR, median,train_loan['ApplicantIncome'])\n",
    "train_loan['ApplicantIncome'] = np.where(train_loan['ApplicantIncome'] <(-1.5)*IQR, median,train_loan['ApplicantIncome'])\n",
    "#train_loan['ApplicantIncome']= [x for x in train_loan['ApplicantIncome'] if (x > (-1.5)*IQR)]\n",
    "#train_loan['ApplicantIncome'] = [x for x in train_loan['ApplicantIncome'] if (x < 1.5*IQR)]"
   ]
  },
  {
   "cell_type": "code",
   "execution_count": null,
   "metadata": {},
   "outputs": [],
   "source": [
    "#beyond the range of -1.5 x IQR to 1.5 x IQR\n",
    "from scipy.stats import iqr\n",
    "IQR = iqr(train_loan['CoapplicantIncome'])\n",
    "median = train_loan['CoapplicantIncome'].mean()\n",
    "train_loan['CoapplicantIncome'] = np.where(train_loan['CoapplicantIncome'] > 1.5*IQR, median,train_loan['CoapplicantIncome'])\n",
    "train_loan['CoapplicantIncome'] = np.where(train_loan['CoapplicantIncome'] <(-1.5)*IQR, median,train_loan['CoapplicantIncome'])"
   ]
  },
  {
   "cell_type": "code",
   "execution_count": null,
   "metadata": {},
   "outputs": [],
   "source": [
    "#beyond the range of -1.5 x IQR to 1.5 x IQR\n",
    "from scipy.stats import iqr\n",
    "IQR = iqr(test_loan['ApplicantIncome'])\n",
    "median = test_loan['ApplicantIncome'].mean()\n",
    "test_loan['ApplicantIncome'] = np.where(test_loan['ApplicantIncome'] > 1.5*IQR, median,test_loan['ApplicantIncome'])\n",
    "test_loan['ApplicantIncome'] = np.where(test_loan['ApplicantIncome'] <(-1.5)*IQR, median,test_loan['ApplicantIncome'])\n",
    "IQR = iqr(test_loan['CoapplicantIncome'])\n",
    "median = test_loan['CoapplicantIncome'].mean()\n",
    "test_loan['CoapplicantIncome'] = np.where(test_loan['CoapplicantIncome'] > 1.5*IQR, median,test_loan['CoapplicantIncome'])\n",
    "test_loan['CoapplicantIncome'] = np.where(test_loan['CoapplicantIncome'] <(-1.5)*IQR, median,test_loan['CoapplicantIncome'])"
   ]
  },
  {
   "cell_type": "markdown",
   "metadata": {},
   "source": [
    "2. Data Exploration\n",
    "- data visualization among the different variables"
   ]
  },
  {
   "cell_type": "code",
   "execution_count": 264,
   "metadata": {},
   "outputs": [
    {
     "data": {
      "text/plain": [
       "<matplotlib.axes._subplots.AxesSubplot at 0x5e641f2ac8>"
      ]
     },
     "execution_count": 264,
     "metadata": {},
     "output_type": "execute_result"
    },
    {
     "data": {
      "image/png": "[encoded data removed]",
      "text/plain": [
       "<Figure size 432x288 with 1 Axes>"
      ]
     },
     "metadata": {},
     "output_type": "display_data"
    }
   ],
   "source": [
    "import seaborn as sns\n",
    "sns.set(style=\"darkgrid\")\n",
    "sns.countplot(x=\"Gender\", hue= \"Loan_Status\", data=train_loan)"
   ]
  },
  {
   "cell_type": "code",
   "execution_count": 265,
   "metadata": {},
   "outputs": [
    {
     "data": {
      "text/plain": [
       "<matplotlib.axes._subplots.AxesSubplot at 0x5e63ddcf98>"
      ]
     },
     "execution_count": 265,
     "metadata": {},
     "output_type": "execute_result"
    },
    {
     "data": {
      "image/png": "[encoded data removed]",
      "text/plain": [
       "<Figure size 432x288 with 1 Axes>"
      ]
     },
     "metadata": {},
     "output_type": "display_data"
    }
   ],
   "source": [
    "sns.countplot(x=\"Married\", hue= \"Loan_Status\", data=train_loan)"
   ]
  },
  {
   "cell_type": "code",
   "execution_count": 266,
   "metadata": {},
   "outputs": [
    {
     "data": {
      "text/plain": [
       "<matplotlib.axes._subplots.AxesSubplot at 0x5e65602358>"
      ]
     },
     "execution_count": 266,
     "metadata": {},
     "output_type": "execute_result"
    },
    {
     "data": {
      "image/png": "[encoded data removed]",
      "text/plain": [
       "<Figure size 432x288 with 1 Axes>"
      ]
     },
     "metadata": {},
     "output_type": "display_data"
    }
   ],
   "source": [
    "sns.countplot(x=\"Credit_History\", hue= \"Loan_Status\", data=train_loan)"
   ]
  },
  {
   "cell_type": "code",
   "execution_count": 267,
   "metadata": {},
   "outputs": [
    {
     "data": {
      "text/plain": [
       "<matplotlib.axes._subplots.AxesSubplot at 0x5e64cad128>"
      ]
     },
     "execution_count": 267,
     "metadata": {},
     "output_type": "execute_result"
    },
    {
     "data": {
      "image/png": "[encoded data removed]",
      "text/plain": [
       "<Figure size 432x288 with 1 Axes>"
      ]
     },
     "metadata": {},
     "output_type": "display_data"
    }
   ],
   "source": [
    "sns.countplot(x=\"Education\", hue= \"Loan_Status\", data=train_loan)"
   ]
  },
  {
   "cell_type": "code",
   "execution_count": 268,
   "metadata": {},
   "outputs": [
    {
     "data": {
      "text/plain": [
       "<matplotlib.axes._subplots.AxesSubplot at 0x5e64a10f28>"
      ]
     },
     "execution_count": 268,
     "metadata": {},
     "output_type": "execute_result"
    },
    {
     "data": {
      "image/png": "[encoded data removed]",
      "text/plain": [
       "<Figure size 432x288 with 1 Axes>"
      ]
     },
     "metadata": {},
     "output_type": "display_data"
    }
   ],
   "source": [
    "#data visualization\n",
    "\n",
    "sns.countplot(train_loan['Loan_Status'], label='count')"
   ]
  },
  {
   "cell_type": "code",
   "execution_count": 269,
   "metadata": {
    "scrolled": true
   },
   "outputs": [
    {
     "name": "stdout",
     "output_type": "stream",
     "text": [
      "<class 'pandas.core.frame.DataFrame'>\n",
      "RangeIndex: 614 entries, 0 to 613\n",
      "Data columns (total 13 columns):\n",
      "Loan_ID              614 non-null object\n",
      "Gender               614 non-null int32\n",
      "Married              614 non-null int32\n",
      "Dependents           614 non-null int32\n",
      "Education            614 non-null int32\n",
      "Self_Employed        614 non-null int32\n",
      "ApplicantIncome      614 non-null float64\n",
      "CoapplicantIncome    614 non-null float64\n",
      "LoanAmount           614 non-null float64\n",
      "Loan_Amount_Term     614 non-null float64\n",
      "Credit_History       614 non-null float64\n",
      "Property_Area        614 non-null int32\n",
      "Loan_Status          614 non-null int32\n",
      "dtypes: float64(5), int32(7), object(1)\n",
      "memory usage: 45.6+ KB\n",
      "None\n",
      "\n",
      "\n",
      "\n",
      "<class 'pandas.core.frame.DataFrame'>\n",
      "RangeIndex: 367 entries, 0 to 366\n",
      "Data columns (total 12 columns):\n",
      "Loan_ID              367 non-null object\n",
      "Gender               367 non-null int32\n",
      "Married              367 non-null int32\n",
      "Dependents           367 non-null int32\n",
      "Education            367 non-null int32\n",
      "Self_Employed        367 non-null int32\n",
      "ApplicantIncome      367 non-null float64\n",
      "CoapplicantIncome    367 non-null float64\n",
      "LoanAmount           367 non-null float64\n",
      "Loan_Amount_Term     367 non-null float64\n",
      "Credit_History       367 non-null float64\n",
      "Property_Area        367 non-null int32\n",
      "dtypes: float64(5), int32(6), object(1)\n",
      "memory usage: 25.9+ KB\n",
      "None\n"
     ]
    }
   ],
   "source": [
    "#check for the description of dataset after dat cleaning\n",
    "\n",
    "print(train_loan.info())\n",
    "print()\n",
    "print()\n",
    "print()\n",
    "print(test_loan.info())\n"
   ]
  },
  {
   "cell_type": "markdown",
   "metadata": {},
   "source": [
    "3.Data Splitting\n",
    "-identify the x and y ie, x-independent variable and y - dependent variable\n",
    "-split the train_loan into train and test data "
   ]
  },
  {
   "cell_type": "code",
   "execution_count": 19,
   "metadata": {},
   "outputs": [
    {
     "name": "stdout",
     "output_type": "stream",
     "text": [
      "(429, 11)\n",
      "(429,)\n",
      "(185, 11)\n",
      "(185,)\n"
     ]
    }
   ],
   "source": [
    "#data splitiing\n",
    "#train_loan=train_loan.drop(['Loan_ID'],axis=1, inplace = True)\n",
    "x= train_loan.iloc[:,1:12]\n",
    "y= train_loan.iloc[:,12]\n",
    "train_x,test_x, train_y,test_y=train_test_split(x,y,test_size=0.3)\n",
    "#random state is excluded so as to see the variation in accuracy among diff models other wise it will give same accuracy.\n",
    "print(train_x.shape)\n",
    "print(train_y.shape)\n",
    "print(test_x.shape)\n",
    "print(test_y.shape)"
   ]
  },
  {
   "cell_type": "code",
   "execution_count": null,
   "metadata": {},
   "outputs": [],
   "source": [
    "4.Model Building\n",
    "1. Logistic Regression-the dependent varaiable is categorical in nature we use logistic Regression\n",
    "2. XGboost \n",
    "3. GridSearch CV"
   ]
  },
  {
   "cell_type": "code",
   "execution_count": 20,
   "metadata": {},
   "outputs": [
    {
     "name": "stderr",
     "output_type": "stream",
     "text": [
      "C:\\Users\\Shweta\\Anaconda3\\lib\\site-packages\\sklearn\\linear_model\\logistic.py:433: FutureWarning: Default solver will be changed to 'lbfgs' in 0.22. Specify a solver to silence this warning.\n",
      "  FutureWarning)\n"
     ]
    },
    {
     "name": "stdout",
     "output_type": "stream",
     "text": [
      "0.8216216216216217\n"
     ]
    }
   ],
   "source": [
    "#Model Building\n",
    "\n",
    "from sklearn.metrics import accuracy_score\n",
    "model_Logistic=LogisticRegression()\n",
    "model_Logistic.fit(train_x,train_y)# now fit our model for traiing data\n",
    "prediction_1=model_Logistic.predict(test_x)# predict for the test data\n",
    "# prediction will contain the predicted value by our model predicted values of diagnosis column for test inputs\n",
    "print(accuracy_score(prediction_1,test_y))\n",
    "\n",
    "        "
   ]
  },
  {
   "cell_type": "code",
   "execution_count": 21,
   "metadata": {},
   "outputs": [
    {
     "data": {
      "text/plain": [
       "0.7675675675675676"
      ]
     },
     "execution_count": 21,
     "metadata": {},
     "output_type": "execute_result"
    }
   ],
   "source": [
    "#XGboost Regressor\n",
    "\n",
    "import xgboost as xgb\n",
    "xg = xgb.XGBClassifier(learning_rate =0.1, n_estimators=170, max_depth= 5, min_child_weight=4, gamma=0.1, subsample=0.8,\n",
    "                     colsample_bytree=0.8, objective= 'binary:logistic')\n",
    "xg.fit(train_x, train_y)\n",
    "preds = xg.predict(test_x)\n",
    "accuracy_score(preds,test_y)"
   ]
  },
  {
   "cell_type": "code",
   "execution_count": 22,
   "metadata": {},
   "outputs": [
    {
     "name": "stdout",
     "output_type": "stream",
     "text": [
      "Best: 0.778555 using {'colsample_bytree': 0.7, 'gamma': 0.1, 'max_depth': 6, 'min_child_weight': 3, 'subsample': 0.8}\n"
     ]
    }
   ],
   "source": [
    "#Grid SearchCV\n",
    "from sklearn.model_selection import GridSearchCV\n",
    "\n",
    "max_depth= list(range(4,10,2))\n",
    "min_child_weight =[3,5,6,9,12]\n",
    "gamma= [0.1,0.2,0.3,0.4]\n",
    "subsample= [i/10.0 for i in range(7,10)]\n",
    "colsample_bytree = [i/10.0 for i in range(7,10)]\n",
    "\n",
    "\n",
    "param_grid = dict(max_depth= max_depth, min_child_weight = min_child_weight,\n",
    "                  gamma= gamma, subsample= subsample, colsample_bytree = colsample_bytree)\n",
    "\n",
    "grid = GridSearchCV(estimator=xg, param_grid=param_grid, cv = 4, n_jobs=-1)\n",
    "\n",
    "grid_result = grid.fit(train_x,train_y)\n",
    "# Summarize results\n",
    "print(\"Best: %f using %s\" % (grid_result.best_score_, grid_result.best_params_))"
   ]
  },
  {
   "cell_type": "code",
   "execution_count": 23,
   "metadata": {},
   "outputs": [
    {
     "name": "stdout",
     "output_type": "stream",
     "text": [
      "0.8108108108108109\n",
      "0.8108108108108109\n"
     ]
    }
   ],
   "source": [
    "xg = xgb.XGBClassifier(learning_rate =0.1, n_estimators=170, max_depth= 4, min_child_weight=6 , gamma= 0.4, subsample=0.8,\n",
    "                     colsample_bytree= 0.7, objective= 'binary:logistic')\n",
    "xg.fit(train_x, train_y)\n",
    "print(xg.score(test_x, test_y))\n",
    "preds = xg.predict(test_x)\n",
    "print(accuracy_score(preds,test_y))"
   ]
  },
  {
   "cell_type": "code",
   "execution_count": 78,
   "metadata": {},
   "outputs": [
    {
     "data": {
      "text/plain": [
       "<matplotlib.axes._subplots.AxesSubplot at 0xccaec5e3c8>"
      ]
     },
     "execution_count": 78,
     "metadata": {},
     "output_type": "execute_result"
    },
    {
     "data": {
      "image/png": "[encoded data removed]",
      "text/plain": [
       "<Figure size 1440x720 with 1 Axes>"
      ]
     },
     "metadata": {
      "needs_background": "light"
     },
     "output_type": "display_data"
    }
   ],
   "source": [
    "#check the importance of the features\n",
    "\n",
    "features = pd.DataFrame()\n",
    "features['Feature'] = train_x.columns\n",
    "features['Importance'] = xg.feature_importances_\n",
    "    \n",
    "\n",
    "features.sort_values(by=['Importance'], ascending=False, inplace=True)\n",
    "features.set_index('Feature', inplace=True)\n",
    "features.plot(kind='bar', figsize=(20, 10))"
   ]
  },
  {
   "cell_type": "code",
   "execution_count": 24,
   "metadata": {},
   "outputs": [],
   "source": [
    "z= test_loan['Loan_ID']\n",
    "#drop the loan_ID as it is not required in the anlaysis\n",
    "test_loan.drop(['Loan_ID'],axis=1,inplace=True)"
   ]
  },
  {
   "cell_type": "code",
   "execution_count": 46,
   "metadata": {},
   "outputs": [
    {
     "name": "stdout",
     "output_type": "stream",
     "text": [
      "Index(['Gender', 'Married', 'Dependents', 'Education', 'Self_Employed',\n",
      "       'ApplicantIncome', 'CoapplicantIncome', 'LoanAmount',\n",
      "       'Loan_Amount_Term', 'Credit_History', 'Property_Area'],\n",
      "      dtype='object')\n"
     ]
    }
   ],
   "source": [
    "print(test_loan.columns)"
   ]
  },
  {
   "cell_type": "code",
   "execution_count": 25,
   "metadata": {},
   "outputs": [
    {
     "name": "stdout",
     "output_type": "stream",
     "text": [
      "[1 1 1 1 1 1 1 0 1 1 1 1 1 0 1 1 1 1 1 1 1 1 1 1 1 0 1 1 1 1 1 1 1 1 1 0 1\n",
      " 1 1 1 1 1 1 1 1 1 1 1 1 1 1 1 1 1 1 0 1 1 0 1 1 1 1 0 1 1 0 0 1 0 1 1 1 1\n",
      " 1 1 1 1 1 1 0 1 0 1 0 1 1 1 1 1 1 1 1 1 0 1 1 1 1 1 1 0 1 1 1 1 0 1 1 1 1\n",
      " 1 1 1 1 1 1 0 0 0 1 1 1 0 0 1 0 1 1 1 1 1 1 1 1 1 1 1 1 1 0 1 0 1 1 1 1 0\n",
      " 1 1 1 1 1 0 1 1 1 1 1 1 1 0 1 1 1 0 0 1 0 1 1 1 1 0 0 1 1 1 1 1 1 1 1 1 1\n",
      " 1 1 1 1 1 1 1 0 0 1 1 0 1 0 1 1 1 1 1 1 1 1 1 1 1 1 0 1 1 1 1 1 1 1 1 1 1\n",
      " 1 1 0 1 1 1 1 0 1 1 1 1 1 0 0 1 1 1 1 0 1 0 1 0 1 1 1 1 0 1 1 1 1 0 1 1 1\n",
      " 1 1 1 1 1 1 1 0 1 0 1 1 1 1 0 0 1 1 1 0 1 1 1 1 1 1 1 1 1 1 1 1 1 1 0 1 1\n",
      " 1 1 1 1 1 0 1 1 1 1 1 1 1 1 1 0 1 1 1 1 1 0 1 1 1 1 1 1 1 0 1 1 1 1 1 1 1\n",
      " 1 1 1 1 1 1 0 1 1 1 1 1 1 0 1 1 1 1 1 1 1 0 1 1 1 1 1 1 1 1 1 1 1 1]\n"
     ]
    }
   ],
   "source": [
    "#predict the test set\n",
    "prediction= model_Logistic.predict(test_loan)# predict for the test data\n",
    "print(prediction)"
   ]
  },
  {
   "cell_type": "code",
   "execution_count": 26,
   "metadata": {},
   "outputs": [],
   "source": [
    "#save the prediction in .csv file\n",
    "output= pd.DataFrame()\n",
    "output['Loan_Status'] = prediction\n",
    "output['Loan_ID'] = z\n",
    "output['Loan_Status'].replace(0, 'N',inplace=True) \n",
    "output['Loan_Status'].replace(1, 'Y',inplace=True)\n",
    "output.to_csv('my_submission.csv', index=False)"
   ]
  }
 ],
 "metadata": {
  "kernelspec": {
   "display_name": "Python 3",
   "language": "python",
   "name": "python3"
  },
  "language_info": {
   "codemirror_mode": {
    "name": "ipython",
    "version": 3
   },
   "file_extension": ".py",
   "mimetype": "text/x-python",
   "name": "python",
   "nbconvert_exporter": "python",
   "pygments_lexer": "ipython3",
   "version": "3.7.0"
  }
 },
 "nbformat": 4,
 "nbformat_minor": 2
}
